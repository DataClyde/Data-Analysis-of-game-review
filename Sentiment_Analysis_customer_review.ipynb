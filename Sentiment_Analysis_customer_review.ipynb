{
  "nbformat": 4,
  "nbformat_minor": 0,
  "metadata": {
    "colab": {
      "name": "Sentiment Analysis customer review",
      "provenance": [],
      "collapsed_sections": []
    },
    "kernelspec": {
      "name": "python3",
      "display_name": "Python 3"
    },
    "language_info": {
      "name": "python"
    }
  },
  "cells": [
    {
      "cell_type": "code",
      "execution_count": 1,
      "metadata": {
        "colab": {
          "base_uri": "https://localhost:8080/"
        },
        "id": "g5T9v5vnjA9m",
        "outputId": "5228e6f1-680e-466c-967d-3cb83901b727"
      },
      "outputs": [
        {
          "output_type": "stream",
          "name": "stdout",
          "text": [
            "Looking in indexes: https://pypi.org/simple, https://us-python.pkg.dev/colab-wheels/public/simple/\n",
            "Collecting emoji\n",
            "  Downloading emoji-2.0.0.tar.gz (197 kB)\n",
            "\u001b[K     |████████████████████████████████| 197 kB 18.0 MB/s \n",
            "\u001b[?25hCollecting contractions\n",
            "  Downloading contractions-0.1.72-py2.py3-none-any.whl (8.3 kB)\n",
            "Requirement already satisfied: nltk in /usr/local/lib/python3.7/dist-packages (3.7)\n",
            "Requirement already satisfied: scikit-learn in /usr/local/lib/python3.7/dist-packages (1.0.2)\n",
            "Collecting textsearch>=0.0.21\n",
            "  Downloading textsearch-0.0.21-py2.py3-none-any.whl (7.5 kB)\n",
            "Collecting anyascii\n",
            "  Downloading anyascii-0.3.1-py3-none-any.whl (287 kB)\n",
            "\u001b[K     |████████████████████████████████| 287 kB 65.5 MB/s \n",
            "\u001b[?25hCollecting pyahocorasick\n",
            "  Downloading pyahocorasick-1.4.4-cp37-cp37m-manylinux_2_17_x86_64.manylinux2014_x86_64.whl (106 kB)\n",
            "\u001b[K     |████████████████████████████████| 106 kB 65.8 MB/s \n",
            "\u001b[?25hRequirement already satisfied: click in /usr/local/lib/python3.7/dist-packages (from nltk) (7.1.2)\n",
            "Requirement already satisfied: joblib in /usr/local/lib/python3.7/dist-packages (from nltk) (1.1.0)\n",
            "Requirement already satisfied: regex>=2021.8.3 in /usr/local/lib/python3.7/dist-packages (from nltk) (2022.6.2)\n",
            "Requirement already satisfied: tqdm in /usr/local/lib/python3.7/dist-packages (from nltk) (4.64.0)\n",
            "Requirement already satisfied: numpy>=1.14.6 in /usr/local/lib/python3.7/dist-packages (from scikit-learn) (1.21.6)\n",
            "Requirement already satisfied: scipy>=1.1.0 in /usr/local/lib/python3.7/dist-packages (from scikit-learn) (1.7.3)\n",
            "Requirement already satisfied: threadpoolctl>=2.0.0 in /usr/local/lib/python3.7/dist-packages (from scikit-learn) (3.1.0)\n",
            "Building wheels for collected packages: emoji\n",
            "  Building wheel for emoji (setup.py) ... \u001b[?25l\u001b[?25hdone\n",
            "  Created wheel for emoji: filename=emoji-2.0.0-py3-none-any.whl size=193022 sha256=42305d5d9d521d7fb12994939438214e775b8ea4d7858b433e573c035b1dbec5\n",
            "  Stored in directory: /root/.cache/pip/wheels/ec/29/4d/3cfe7452ac7d8d83b1930f8a6205c3c9649b24e80f9029fc38\n",
            "Successfully built emoji\n",
            "Installing collected packages: pyahocorasick, anyascii, textsearch, emoji, contractions\n",
            "Successfully installed anyascii-0.3.1 contractions-0.1.72 emoji-2.0.0 pyahocorasick-1.4.4 textsearch-0.0.21\n"
          ]
        }
      ],
      "source": [
        "pip install emoji contractions nltk -U scikit-learn\n"
      ]
    },
    {
      "cell_type": "code",
      "source": [
        "import pandas as pd\n",
        "import seaborn as sns\n",
        "import matplotlib.pyplot as plt\n",
        "import emoji\n",
        "import re\n",
        "import contractions\n",
        "import nltk\n",
        "from nltk.tokenize import word_tokenize\n",
        "nltk.download('punkt')\n",
        "from nltk.stem import PorterStemmer\n",
        "from nltk.stem import LancasterStemmer\n",
        "from nltk.stem.snowball import SnowballStemmer"
      ],
      "metadata": {
        "colab": {
          "base_uri": "https://localhost:8080/"
        },
        "id": "jxeIPZmhjR3c",
        "outputId": "8e84d423-8a68-404c-8d87-3391f9179dad"
      },
      "execution_count": 2,
      "outputs": [
        {
          "output_type": "stream",
          "name": "stderr",
          "text": [
            "[nltk_data] Downloading package punkt to /root/nltk_data...\n",
            "[nltk_data]   Unzipping tokenizers/punkt.zip.\n"
          ]
        }
      ]
    },
    {
      "cell_type": "code",
      "source": [
        "snowball_stemmer=SnowballStemmer('english')"
      ],
      "metadata": {
        "id": "jK1YJKV5mkl2"
      },
      "execution_count": 3,
      "outputs": []
    },
    {
      "cell_type": "code",
      "source": [
        "def replace_tweet(tweet,default_replace='',twitter_user='twitter_user',stemmer=snowball_stemmer):\n",
        "  tokens_list=[]\n",
        "  for k,v in contractions.contractions_dict.items():\n",
        "    tweet=tweet.replace(k,v) \n",
        "  tweet=re.sub('RT\\s+',default_replace,tweet)\n",
        "  tweet= re.sub('\\B@\\w+',twitter_user,tweet)\n",
        "  tweet=emoji.demojize(tweet)\n",
        "  tweet=re.sub('(http|https):\\/\\/\\S+',default_replace,tweet)\n",
        "  tweet=re.sub('#+',default_replace,tweet)\n",
        "\n",
        "  tweet=tweet.lower()\n",
        "  tweet=re.sub(r'(.)\\1+',r'\\1\\1',tweet)\n",
        "  tweet=re.sub(r'[\\?\\.\\,\\!\\n]+(?=[\\?\\.\\,\\!\\n])',default_replace,tweet)\n",
        "  tweet=re.sub('\\n',default_replace,tweet)\n",
        "  token=word_tokenize(tweet)\n",
        "\n",
        "  for tokens in token:\n",
        "    tokens_list.append(stemmer.stem(tokens))\n",
        "  return tokens_list"
      ],
      "metadata": {
        "id": "Yk9BLtENjvgj"
      },
      "execution_count": 4,
      "outputs": []
    },
    {
      "cell_type": "markdown",
      "source": [
        "Pre-Process text"
      ],
      "metadata": {
        "id": "saRp4HKPk1fv"
      }
    },
    {
      "cell_type": "code",
      "source": [
        "df=pd.read_csv('/content/drive/MyDrive/Data science Data files/Twitter/twitter_training.csv')"
      ],
      "metadata": {
        "id": "_cb0bh_Sjv7v"
      },
      "execution_count": 5,
      "outputs": []
    },
    {
      "cell_type": "code",
      "source": [
        "#Renaming the columns\n",
        "df.rename(columns = {'Borderlands':'Topic', 'Positive':'Sentiment','im getting on borderlands and i will murder you all ,':'Review'}, inplace = True)"
      ],
      "metadata": {
        "id": "ms2nKEGzk6MV"
      },
      "execution_count": 6,
      "outputs": []
    },
    {
      "cell_type": "code",
      "source": [
        "# To turn all reviews into str\n",
        "\n",
        "df[\"Review\"] = df[\"Review\"].astype(str)\n",
        "df[\"Review\"] = [x.replace(':',' ') for x in df[\"Review\"]]"
      ],
      "metadata": {
        "id": "SOpG19DOmwrA"
      },
      "execution_count": 7,
      "outputs": []
    },
    {
      "cell_type": "code",
      "source": [
        "df = df[df.Sentiment != 'Neutral']\n",
        "df=df[df.Sentiment != 'Irrelevant']"
      ],
      "metadata": {
        "id": "hc_jnLnZlinf"
      },
      "execution_count": 8,
      "outputs": []
    },
    {
      "cell_type": "code",
      "source": [
        "df['Review_sentiment']=df['Sentiment'].apply(lambda x: 1 if x == 'Positive' else 0)"
      ],
      "metadata": {
        "id": "Ivjnr6_Tl7CR"
      },
      "execution_count": 9,
      "outputs": []
    },
    {
      "cell_type": "code",
      "source": [
        "df['tokens']=df['Review'].apply(replace_tweet)\n"
      ],
      "metadata": {
        "id": "U3bkI07Sl89Y"
      },
      "execution_count": 10,
      "outputs": []
    },
    {
      "cell_type": "code",
      "source": [
        "df.head()\n"
      ],
      "metadata": {
        "colab": {
          "base_uri": "https://localhost:8080/",
          "height": 337
        },
        "id": "VYTKDtBHlFKX",
        "outputId": "97ef1ced-3a06-4dc2-bcb2-3ec3b69887e3"
      },
      "execution_count": 11,
      "outputs": [
        {
          "output_type": "execute_result",
          "data": {
            "text/plain": [
              "   2401        Topic Sentiment  \\\n",
              "0  2401  Borderlands  Positive   \n",
              "1  2401  Borderlands  Positive   \n",
              "2  2401  Borderlands  Positive   \n",
              "3  2401  Borderlands  Positive   \n",
              "4  2401  Borderlands  Positive   \n",
              "\n",
              "                                              Review  Review_sentiment  \\\n",
              "0  I am coming to the borders and I will kill you...                 1   \n",
              "1  im getting on borderlands and i will kill you ...                 1   \n",
              "2  im coming on borderlands and i will murder you...                 1   \n",
              "3  im getting on borderlands 2 and i will murder ...                 1   \n",
              "4  im getting into borderlands and i can murder y...                 1   \n",
              "\n",
              "                                              tokens  \n",
              "0  [i, am, come, to, the, border, and, i, will, k...  \n",
              "1  [im, get, on, borderland, and, i, will, kill, ...  \n",
              "2  [im, come, on, borderland, and, i, will, murde...  \n",
              "3  [im, get, on, borderland, 2, and, i, will, mur...  \n",
              "4  [im, get, into, borderland, and, i, can, murde...  "
            ],
            "text/html": [
              "\n",
              "  <div id=\"df-b308bf8f-e36f-4fc4-9ec3-e092435f0f8c\">\n",
              "    <div class=\"colab-df-container\">\n",
              "      <div>\n",
              "<style scoped>\n",
              "    .dataframe tbody tr th:only-of-type {\n",
              "        vertical-align: middle;\n",
              "    }\n",
              "\n",
              "    .dataframe tbody tr th {\n",
              "        vertical-align: top;\n",
              "    }\n",
              "\n",
              "    .dataframe thead th {\n",
              "        text-align: right;\n",
              "    }\n",
              "</style>\n",
              "<table border=\"1\" class=\"dataframe\">\n",
              "  <thead>\n",
              "    <tr style=\"text-align: right;\">\n",
              "      <th></th>\n",
              "      <th>2401</th>\n",
              "      <th>Topic</th>\n",
              "      <th>Sentiment</th>\n",
              "      <th>Review</th>\n",
              "      <th>Review_sentiment</th>\n",
              "      <th>tokens</th>\n",
              "    </tr>\n",
              "  </thead>\n",
              "  <tbody>\n",
              "    <tr>\n",
              "      <th>0</th>\n",
              "      <td>2401</td>\n",
              "      <td>Borderlands</td>\n",
              "      <td>Positive</td>\n",
              "      <td>I am coming to the borders and I will kill you...</td>\n",
              "      <td>1</td>\n",
              "      <td>[i, am, come, to, the, border, and, i, will, k...</td>\n",
              "    </tr>\n",
              "    <tr>\n",
              "      <th>1</th>\n",
              "      <td>2401</td>\n",
              "      <td>Borderlands</td>\n",
              "      <td>Positive</td>\n",
              "      <td>im getting on borderlands and i will kill you ...</td>\n",
              "      <td>1</td>\n",
              "      <td>[im, get, on, borderland, and, i, will, kill, ...</td>\n",
              "    </tr>\n",
              "    <tr>\n",
              "      <th>2</th>\n",
              "      <td>2401</td>\n",
              "      <td>Borderlands</td>\n",
              "      <td>Positive</td>\n",
              "      <td>im coming on borderlands and i will murder you...</td>\n",
              "      <td>1</td>\n",
              "      <td>[im, come, on, borderland, and, i, will, murde...</td>\n",
              "    </tr>\n",
              "    <tr>\n",
              "      <th>3</th>\n",
              "      <td>2401</td>\n",
              "      <td>Borderlands</td>\n",
              "      <td>Positive</td>\n",
              "      <td>im getting on borderlands 2 and i will murder ...</td>\n",
              "      <td>1</td>\n",
              "      <td>[im, get, on, borderland, 2, and, i, will, mur...</td>\n",
              "    </tr>\n",
              "    <tr>\n",
              "      <th>4</th>\n",
              "      <td>2401</td>\n",
              "      <td>Borderlands</td>\n",
              "      <td>Positive</td>\n",
              "      <td>im getting into borderlands and i can murder y...</td>\n",
              "      <td>1</td>\n",
              "      <td>[im, get, into, borderland, and, i, can, murde...</td>\n",
              "    </tr>\n",
              "  </tbody>\n",
              "</table>\n",
              "</div>\n",
              "      <button class=\"colab-df-convert\" onclick=\"convertToInteractive('df-b308bf8f-e36f-4fc4-9ec3-e092435f0f8c')\"\n",
              "              title=\"Convert this dataframe to an interactive table.\"\n",
              "              style=\"display:none;\">\n",
              "        \n",
              "  <svg xmlns=\"http://www.w3.org/2000/svg\" height=\"24px\"viewBox=\"0 0 24 24\"\n",
              "       width=\"24px\">\n",
              "    <path d=\"M0 0h24v24H0V0z\" fill=\"none\"/>\n",
              "    <path d=\"M18.56 5.44l.94 2.06.94-2.06 2.06-.94-2.06-.94-.94-2.06-.94 2.06-2.06.94zm-11 1L8.5 8.5l.94-2.06 2.06-.94-2.06-.94L8.5 2.5l-.94 2.06-2.06.94zm10 10l.94 2.06.94-2.06 2.06-.94-2.06-.94-.94-2.06-.94 2.06-2.06.94z\"/><path d=\"M17.41 7.96l-1.37-1.37c-.4-.4-.92-.59-1.43-.59-.52 0-1.04.2-1.43.59L10.3 9.45l-7.72 7.72c-.78.78-.78 2.05 0 2.83L4 21.41c.39.39.9.59 1.41.59.51 0 1.02-.2 1.41-.59l7.78-7.78 2.81-2.81c.8-.78.8-2.07 0-2.86zM5.41 20L4 18.59l7.72-7.72 1.47 1.35L5.41 20z\"/>\n",
              "  </svg>\n",
              "      </button>\n",
              "      \n",
              "  <style>\n",
              "    .colab-df-container {\n",
              "      display:flex;\n",
              "      flex-wrap:wrap;\n",
              "      gap: 12px;\n",
              "    }\n",
              "\n",
              "    .colab-df-convert {\n",
              "      background-color: #E8F0FE;\n",
              "      border: none;\n",
              "      border-radius: 50%;\n",
              "      cursor: pointer;\n",
              "      display: none;\n",
              "      fill: #1967D2;\n",
              "      height: 32px;\n",
              "      padding: 0 0 0 0;\n",
              "      width: 32px;\n",
              "    }\n",
              "\n",
              "    .colab-df-convert:hover {\n",
              "      background-color: #E2EBFA;\n",
              "      box-shadow: 0px 1px 2px rgba(60, 64, 67, 0.3), 0px 1px 3px 1px rgba(60, 64, 67, 0.15);\n",
              "      fill: #174EA6;\n",
              "    }\n",
              "\n",
              "    [theme=dark] .colab-df-convert {\n",
              "      background-color: #3B4455;\n",
              "      fill: #D2E3FC;\n",
              "    }\n",
              "\n",
              "    [theme=dark] .colab-df-convert:hover {\n",
              "      background-color: #434B5C;\n",
              "      box-shadow: 0px 1px 3px 1px rgba(0, 0, 0, 0.15);\n",
              "      filter: drop-shadow(0px 1px 2px rgba(0, 0, 0, 0.3));\n",
              "      fill: #FFFFFF;\n",
              "    }\n",
              "  </style>\n",
              "\n",
              "      <script>\n",
              "        const buttonEl =\n",
              "          document.querySelector('#df-b308bf8f-e36f-4fc4-9ec3-e092435f0f8c button.colab-df-convert');\n",
              "        buttonEl.style.display =\n",
              "          google.colab.kernel.accessAllowed ? 'block' : 'none';\n",
              "\n",
              "        async function convertToInteractive(key) {\n",
              "          const element = document.querySelector('#df-b308bf8f-e36f-4fc4-9ec3-e092435f0f8c');\n",
              "          const dataTable =\n",
              "            await google.colab.kernel.invokeFunction('convertToInteractive',\n",
              "                                                     [key], {});\n",
              "          if (!dataTable) return;\n",
              "\n",
              "          const docLinkHtml = 'Like what you see? Visit the ' +\n",
              "            '<a target=\"_blank\" href=https://colab.research.google.com/notebooks/data_table.ipynb>data table notebook</a>'\n",
              "            + ' to learn more about interactive tables.';\n",
              "          element.innerHTML = '';\n",
              "          dataTable['output_type'] = 'display_data';\n",
              "          await google.colab.output.renderOutput(dataTable, element);\n",
              "          const docLink = document.createElement('div');\n",
              "          docLink.innerHTML = docLinkHtml;\n",
              "          element.appendChild(docLink);\n",
              "        }\n",
              "      </script>\n",
              "    </div>\n",
              "  </div>\n",
              "  "
            ]
          },
          "metadata": {},
          "execution_count": 11
        }
      ]
    },
    {
      "cell_type": "markdown",
      "source": [
        "Sentiment Analysis"
      ],
      "metadata": {
        "id": "takUn1wHnJje"
      }
    },
    {
      "cell_type": "code",
      "source": [
        "from sklearn.model_selection import train_test_split\n",
        "from sklearn.linear_model import LogisticRegression\n",
        "from sklearn.feature_extraction.text import TfidfVectorizer\n",
        "from sklearn.feature_extraction.text import CountVectorizer\n",
        "from sklearn.metrics import accuracy_score\n",
        "from sklearn.metrics import confusion_matrix"
      ],
      "metadata": {
        "id": "p2sPkKpRnBpz"
      },
      "execution_count": 12,
      "outputs": []
    },
    {
      "cell_type": "code",
      "source": [
        "def fit_lr(X_train,y_train):\n",
        "  model=LogisticRegression(max_iter=1000)\n",
        "  model.fit(X_train,y_train)\n",
        "  return model"
      ],
      "metadata": {
        "id": "nl3Oxf1DnM6X"
      },
      "execution_count": 13,
      "outputs": []
    },
    {
      "cell_type": "code",
      "source": [
        "def fit_tfidf(tweet_corpus):\n",
        "  tf_vect=TfidfVectorizer(tokenizer=lambda x: x\n",
        "                          ,preprocessor=lambda x:x)\n",
        "  tf_vect.fit(tweet_corpus)\n",
        "  return tf_vect"
      ],
      "metadata": {
        "id": "dvPLqmh1nRGP"
      },
      "execution_count": 14,
      "outputs": []
    },
    {
      "cell_type": "code",
      "source": [
        "x=df['tokens']\n",
        "y=df['Review_sentiment']"
      ],
      "metadata": {
        "id": "TYaA0A07nSXj"
      },
      "execution_count": 15,
      "outputs": []
    },
    {
      "cell_type": "code",
      "source": [
        "X_train,X_test,y_train,y_test=train_test_split(x,y,\n",
        "                                               random_state=11,\n",
        "                                               train_size=0.8)"
      ],
      "metadata": {
        "id": "IGGxpNWCnwLv"
      },
      "execution_count": 16,
      "outputs": []
    },
    {
      "cell_type": "code",
      "source": [
        "tf=fit_tfidf(X_train)"
      ],
      "metadata": {
        "colab": {
          "base_uri": "https://localhost:8080/"
        },
        "id": "fAY1L0l3nXMA",
        "outputId": "410d8790-e5a9-4a01-f2cf-dbffe6f42cd4"
      },
      "execution_count": 17,
      "outputs": [
        {
          "output_type": "stream",
          "name": "stderr",
          "text": [
            "/usr/local/lib/python3.7/dist-packages/sklearn/feature_extraction/text.py:517: UserWarning: The parameter 'token_pattern' will not be used since 'tokenizer' is not None'\n",
            "  \"The parameter 'token_pattern' will not be used\"\n"
          ]
        }
      ]
    },
    {
      "cell_type": "code",
      "source": [
        "X_train_tf=tf.transform(X_train)\n",
        "X_test_tf=tf.transform(X_test)"
      ],
      "metadata": {
        "id": "Qw4ZeOaYngZU"
      },
      "execution_count": 18,
      "outputs": []
    },
    {
      "cell_type": "code",
      "source": [
        "model_lr_tf=fit_lr(X_train_tf,y_train)"
      ],
      "metadata": {
        "id": "4w-Ha8W8nyiW"
      },
      "execution_count": 19,
      "outputs": []
    },
    {
      "cell_type": "code",
      "source": [
        "y_pred_lr_tfidf=model_lr_tf.predict(X_test_tf)"
      ],
      "metadata": {
        "id": "hiJ8qJX3n2YA"
      },
      "execution_count": 20,
      "outputs": []
    },
    {
      "cell_type": "code",
      "source": [
        "accuracy_score(y_test,y_pred_lr_tfidf)"
      ],
      "metadata": {
        "colab": {
          "base_uri": "https://localhost:8080/"
        },
        "id": "ykCqVJMQn5r0",
        "outputId": "f317b17d-2225-4ce2-c2b9-3b8811aa98f2"
      },
      "execution_count": 21,
      "outputs": [
        {
          "output_type": "execute_result",
          "data": {
            "text/plain": [
              "0.8721613832853026"
            ]
          },
          "metadata": {},
          "execution_count": 21
        }
      ]
    },
    {
      "cell_type": "markdown",
      "source": [
        "Game review Sentiment prediction"
      ],
      "metadata": {
        "id": "EU0rns4-6WUw"
      }
    },
    {
      "cell_type": "code",
      "source": [
        "all_tables=pd.read_csv('/content/drive/MyDrive/Data science Data files/Customer Review/all_tables_joined_final.csv',index_col=0)"
      ],
      "metadata": {
        "id": "j0IwZqQt7Nf7"
      },
      "execution_count": 38,
      "outputs": []
    },
    {
      "cell_type": "code",
      "source": [
        "#all_tables=all_tables.drop('Tokenized2',axis=1)"
      ],
      "metadata": {
        "id": "NieEqE56G52Q"
      },
      "execution_count": 40,
      "outputs": []
    },
    {
      "cell_type": "code",
      "source": [
        "all_tables['Negative']=all_tables[]"
      ],
      "metadata": {
        "id": "zxmPp97VP1Pf"
      },
      "execution_count": null,
      "outputs": []
    },
    {
      "cell_type": "code",
      "source": [
        "all_tables.head(5)"
      ],
      "metadata": {
        "colab": {
          "base_uri": "https://localhost:8080/",
          "height": 739
        },
        "id": "5HcOo5KeG-Sz",
        "outputId": "bdb0d5f7-02eb-497f-bfa6-ca0150096701"
      },
      "execution_count": 90,
      "outputs": [
        {
          "output_type": "execute_result",
          "data": {
            "text/plain": [
              "   review_id     author steamid language  \\\n",
              "0   17100616  76561198064239298  english   \n",
              "1   17100401  76561197976591718  english   \n",
              "2   17100396  76561198105659850  english   \n",
              "3   17100313  76561197987572281  english   \n",
              "4   17100298  76561198123805025  english   \n",
              "\n",
              "                                              review           app_name  \\\n",
              "0  This game is amazing. Tired of games that you ...  Darkest DungeonÂ®   \n",
              "1  This game has the feeling of a moblie game and...  Darkest DungeonÂ®   \n",
              "2  I deleted my previous review from 2017 because...  Darkest DungeonÂ®   \n",
              "3  When I first saw this game I figured it was ju...  Darkest DungeonÂ®   \n",
              "4  I would kill myself how many times i would lik...  Darkest DungeonÂ®   \n",
              "\n",
              "   author num_reviews  author playtime_forever  \\\n",
              "0                  34                   1324.0   \n",
              "1                   1                    954.0   \n",
              "2                   9                   2009.0   \n",
              "3                  32                   2377.0   \n",
              "4                  14                    788.0   \n",
              "\n",
              "   author playtime_last_two_weeks  author playtime_at_review  recommended  \\\n",
              "0                             0.0                      732.0            1   \n",
              "1                             0.0                      954.0            0   \n",
              "2                             0.0                     1078.0            1   \n",
              "3                             0.0                     1727.0            1   \n",
              "4                             0.0                      414.0            1   \n",
              "\n",
              "   votes_helpful  votes_funny  weighted_vote_score  comment_count  \\\n",
              "0             20            6             0.559422              0   \n",
              "1              0            0             0.445860              0   \n",
              "2              0            0             0.000000              0   \n",
              "3             26            5             0.545156              1   \n",
              "4              0            1             0.000000              0   \n",
              "\n",
              "                                           Tokenized  sentiment_prediction  \\\n",
              "0  ['tis', 'game', 'is', 'amaz', '.', 'tire', 'of...                     1   \n",
              "1  ['tis', 'game', 'as', 'te', 'feel', 'of', 'a',...                     1   \n",
              "2  ['i', 'delet', 'my', 'previous', 'review', 'fr...                     1   \n",
              "3  ['wen', 'i', 'first', 'saw', 'tis', 'game', 'i...                     1   \n",
              "4  ['i', 'would', 'kill', 'myself', 'ow', 'mani',...                     1   \n",
              "\n",
              "   Score  Negative  \n",
              "0   80.6         0  \n",
              "1   95.4         0  \n",
              "2  108.0         0  \n",
              "3  181.9         0  \n",
              "4   41.8         0  "
            ],
            "text/html": [
              "\n",
              "  <div id=\"df-e2c7737e-7f3a-44b9-99a9-4f17c1d8483b\">\n",
              "    <div class=\"colab-df-container\">\n",
              "      <div>\n",
              "<style scoped>\n",
              "    .dataframe tbody tr th:only-of-type {\n",
              "        vertical-align: middle;\n",
              "    }\n",
              "\n",
              "    .dataframe tbody tr th {\n",
              "        vertical-align: top;\n",
              "    }\n",
              "\n",
              "    .dataframe thead th {\n",
              "        text-align: right;\n",
              "    }\n",
              "</style>\n",
              "<table border=\"1\" class=\"dataframe\">\n",
              "  <thead>\n",
              "    <tr style=\"text-align: right;\">\n",
              "      <th></th>\n",
              "      <th>review_id</th>\n",
              "      <th>author steamid</th>\n",
              "      <th>language</th>\n",
              "      <th>review</th>\n",
              "      <th>app_name</th>\n",
              "      <th>author num_reviews</th>\n",
              "      <th>author playtime_forever</th>\n",
              "      <th>author playtime_last_two_weeks</th>\n",
              "      <th>author playtime_at_review</th>\n",
              "      <th>recommended</th>\n",
              "      <th>votes_helpful</th>\n",
              "      <th>votes_funny</th>\n",
              "      <th>weighted_vote_score</th>\n",
              "      <th>comment_count</th>\n",
              "      <th>Tokenized</th>\n",
              "      <th>sentiment_prediction</th>\n",
              "      <th>Score</th>\n",
              "      <th>Negative</th>\n",
              "    </tr>\n",
              "  </thead>\n",
              "  <tbody>\n",
              "    <tr>\n",
              "      <th>0</th>\n",
              "      <td>17100616</td>\n",
              "      <td>76561198064239298</td>\n",
              "      <td>english</td>\n",
              "      <td>This game is amazing. Tired of games that you ...</td>\n",
              "      <td>Darkest DungeonÂ®</td>\n",
              "      <td>34</td>\n",
              "      <td>1324.0</td>\n",
              "      <td>0.0</td>\n",
              "      <td>732.0</td>\n",
              "      <td>1</td>\n",
              "      <td>20</td>\n",
              "      <td>6</td>\n",
              "      <td>0.559422</td>\n",
              "      <td>0</td>\n",
              "      <td>['tis', 'game', 'is', 'amaz', '.', 'tire', 'of...</td>\n",
              "      <td>1</td>\n",
              "      <td>80.6</td>\n",
              "      <td>0</td>\n",
              "    </tr>\n",
              "    <tr>\n",
              "      <th>1</th>\n",
              "      <td>17100401</td>\n",
              "      <td>76561197976591718</td>\n",
              "      <td>english</td>\n",
              "      <td>This game has the feeling of a moblie game and...</td>\n",
              "      <td>Darkest DungeonÂ®</td>\n",
              "      <td>1</td>\n",
              "      <td>954.0</td>\n",
              "      <td>0.0</td>\n",
              "      <td>954.0</td>\n",
              "      <td>0</td>\n",
              "      <td>0</td>\n",
              "      <td>0</td>\n",
              "      <td>0.445860</td>\n",
              "      <td>0</td>\n",
              "      <td>['tis', 'game', 'as', 'te', 'feel', 'of', 'a',...</td>\n",
              "      <td>1</td>\n",
              "      <td>95.4</td>\n",
              "      <td>0</td>\n",
              "    </tr>\n",
              "    <tr>\n",
              "      <th>2</th>\n",
              "      <td>17100396</td>\n",
              "      <td>76561198105659850</td>\n",
              "      <td>english</td>\n",
              "      <td>I deleted my previous review from 2017 because...</td>\n",
              "      <td>Darkest DungeonÂ®</td>\n",
              "      <td>9</td>\n",
              "      <td>2009.0</td>\n",
              "      <td>0.0</td>\n",
              "      <td>1078.0</td>\n",
              "      <td>1</td>\n",
              "      <td>0</td>\n",
              "      <td>0</td>\n",
              "      <td>0.000000</td>\n",
              "      <td>0</td>\n",
              "      <td>['i', 'delet', 'my', 'previous', 'review', 'fr...</td>\n",
              "      <td>1</td>\n",
              "      <td>108.0</td>\n",
              "      <td>0</td>\n",
              "    </tr>\n",
              "    <tr>\n",
              "      <th>3</th>\n",
              "      <td>17100313</td>\n",
              "      <td>76561197987572281</td>\n",
              "      <td>english</td>\n",
              "      <td>When I first saw this game I figured it was ju...</td>\n",
              "      <td>Darkest DungeonÂ®</td>\n",
              "      <td>32</td>\n",
              "      <td>2377.0</td>\n",
              "      <td>0.0</td>\n",
              "      <td>1727.0</td>\n",
              "      <td>1</td>\n",
              "      <td>26</td>\n",
              "      <td>5</td>\n",
              "      <td>0.545156</td>\n",
              "      <td>1</td>\n",
              "      <td>['wen', 'i', 'first', 'saw', 'tis', 'game', 'i...</td>\n",
              "      <td>1</td>\n",
              "      <td>181.9</td>\n",
              "      <td>0</td>\n",
              "    </tr>\n",
              "    <tr>\n",
              "      <th>4</th>\n",
              "      <td>17100298</td>\n",
              "      <td>76561198123805025</td>\n",
              "      <td>english</td>\n",
              "      <td>I would kill myself how many times i would lik...</td>\n",
              "      <td>Darkest DungeonÂ®</td>\n",
              "      <td>14</td>\n",
              "      <td>788.0</td>\n",
              "      <td>0.0</td>\n",
              "      <td>414.0</td>\n",
              "      <td>1</td>\n",
              "      <td>0</td>\n",
              "      <td>1</td>\n",
              "      <td>0.000000</td>\n",
              "      <td>0</td>\n",
              "      <td>['i', 'would', 'kill', 'myself', 'ow', 'mani',...</td>\n",
              "      <td>1</td>\n",
              "      <td>41.8</td>\n",
              "      <td>0</td>\n",
              "    </tr>\n",
              "  </tbody>\n",
              "</table>\n",
              "</div>\n",
              "      <button class=\"colab-df-convert\" onclick=\"convertToInteractive('df-e2c7737e-7f3a-44b9-99a9-4f17c1d8483b')\"\n",
              "              title=\"Convert this dataframe to an interactive table.\"\n",
              "              style=\"display:none;\">\n",
              "        \n",
              "  <svg xmlns=\"http://www.w3.org/2000/svg\" height=\"24px\"viewBox=\"0 0 24 24\"\n",
              "       width=\"24px\">\n",
              "    <path d=\"M0 0h24v24H0V0z\" fill=\"none\"/>\n",
              "    <path d=\"M18.56 5.44l.94 2.06.94-2.06 2.06-.94-2.06-.94-.94-2.06-.94 2.06-2.06.94zm-11 1L8.5 8.5l.94-2.06 2.06-.94-2.06-.94L8.5 2.5l-.94 2.06-2.06.94zm10 10l.94 2.06.94-2.06 2.06-.94-2.06-.94-.94-2.06-.94 2.06-2.06.94z\"/><path d=\"M17.41 7.96l-1.37-1.37c-.4-.4-.92-.59-1.43-.59-.52 0-1.04.2-1.43.59L10.3 9.45l-7.72 7.72c-.78.78-.78 2.05 0 2.83L4 21.41c.39.39.9.59 1.41.59.51 0 1.02-.2 1.41-.59l7.78-7.78 2.81-2.81c.8-.78.8-2.07 0-2.86zM5.41 20L4 18.59l7.72-7.72 1.47 1.35L5.41 20z\"/>\n",
              "  </svg>\n",
              "      </button>\n",
              "      \n",
              "  <style>\n",
              "    .colab-df-container {\n",
              "      display:flex;\n",
              "      flex-wrap:wrap;\n",
              "      gap: 12px;\n",
              "    }\n",
              "\n",
              "    .colab-df-convert {\n",
              "      background-color: #E8F0FE;\n",
              "      border: none;\n",
              "      border-radius: 50%;\n",
              "      cursor: pointer;\n",
              "      display: none;\n",
              "      fill: #1967D2;\n",
              "      height: 32px;\n",
              "      padding: 0 0 0 0;\n",
              "      width: 32px;\n",
              "    }\n",
              "\n",
              "    .colab-df-convert:hover {\n",
              "      background-color: #E2EBFA;\n",
              "      box-shadow: 0px 1px 2px rgba(60, 64, 67, 0.3), 0px 1px 3px 1px rgba(60, 64, 67, 0.15);\n",
              "      fill: #174EA6;\n",
              "    }\n",
              "\n",
              "    [theme=dark] .colab-df-convert {\n",
              "      background-color: #3B4455;\n",
              "      fill: #D2E3FC;\n",
              "    }\n",
              "\n",
              "    [theme=dark] .colab-df-convert:hover {\n",
              "      background-color: #434B5C;\n",
              "      box-shadow: 0px 1px 3px 1px rgba(0, 0, 0, 0.15);\n",
              "      filter: drop-shadow(0px 1px 2px rgba(0, 0, 0, 0.3));\n",
              "      fill: #FFFFFF;\n",
              "    }\n",
              "  </style>\n",
              "\n",
              "      <script>\n",
              "        const buttonEl =\n",
              "          document.querySelector('#df-e2c7737e-7f3a-44b9-99a9-4f17c1d8483b button.colab-df-convert');\n",
              "        buttonEl.style.display =\n",
              "          google.colab.kernel.accessAllowed ? 'block' : 'none';\n",
              "\n",
              "        async function convertToInteractive(key) {\n",
              "          const element = document.querySelector('#df-e2c7737e-7f3a-44b9-99a9-4f17c1d8483b');\n",
              "          const dataTable =\n",
              "            await google.colab.kernel.invokeFunction('convertToInteractive',\n",
              "                                                     [key], {});\n",
              "          if (!dataTable) return;\n",
              "\n",
              "          const docLinkHtml = 'Like what you see? Visit the ' +\n",
              "            '<a target=\"_blank\" href=https://colab.research.google.com/notebooks/data_table.ipynb>data table notebook</a>'\n",
              "            + ' to learn more about interactive tables.';\n",
              "          element.innerHTML = '';\n",
              "          dataTable['output_type'] = 'display_data';\n",
              "          await google.colab.output.renderOutput(dataTable, element);\n",
              "          const docLink = document.createElement('div');\n",
              "          docLink.innerHTML = docLinkHtml;\n",
              "          element.appendChild(docLink);\n",
              "        }\n",
              "      </script>\n",
              "    </div>\n",
              "  </div>\n",
              "  "
            ]
          },
          "metadata": {},
          "execution_count": 90
        }
      ]
    },
    {
      "cell_type": "code",
      "source": [
        "x=all_tables['Tokenized']\n",
        "X_train_tf=tf.transform(x)"
      ],
      "metadata": {
        "id": "0cB_VTK5IJjp"
      },
      "execution_count": 44,
      "outputs": []
    },
    {
      "cell_type": "code",
      "source": [
        "y_pred_testdata=model_lr_tf.predict(X_train_tf)"
      ],
      "metadata": {
        "id": "p7pCIxS-H1Os"
      },
      "execution_count": 45,
      "outputs": []
    },
    {
      "cell_type": "code",
      "source": [
        "all_tables['sentiment_prediction']=y_pred_testdata"
      ],
      "metadata": {
        "id": "jsCYGQE5IWtX"
      },
      "execution_count": 51,
      "outputs": []
    },
    {
      "cell_type": "code",
      "source": [
        "all_tables['sentiment_prediction'].value_counts()"
      ],
      "metadata": {
        "colab": {
          "base_uri": "https://localhost:8080/"
        },
        "id": "1EDrG34QIXr_",
        "outputId": "15d5ea4b-16e0-45a5-90c5-aa3292077766"
      },
      "execution_count": 52,
      "outputs": [
        {
          "output_type": "execute_result",
          "data": {
            "text/plain": [
              "1    167161\n",
              "0     44982\n",
              "Name: sentiment_prediction, dtype: int64"
            ]
          },
          "metadata": {},
          "execution_count": 52
        }
      ]
    },
    {
      "cell_type": "markdown",
      "source": [
        "Game review data analysis"
      ],
      "metadata": {
        "id": "FgcfDuf3Lgg9"
      }
    },
    {
      "cell_type": "markdown",
      "source": [
        "Data analysis\n",
        "\n",
        "\n",
        "- We will not be considering authors with only 1 review\n",
        "- author playtime at review: this will be valued as we assume that players with longer playtime are more credible with their reviews\n",
        "-recommended: if a review was recommended or not\n",
        "-votes_funny/votes_helpful: we shall analyze if votes_funny has higher correlation with comment count\n",
        "-comment count: is an important metrics as it signifies that the review is a discussion starter and is engaging\n",
        "\n",
        "Ranking the KPIS: (current assumption)\n",
        "\n",
        "1. Votes helpful -30%\n",
        "2. votes funny -20%\n",
        "3. comments - 20%\n",
        "4. recommended - 20%\n",
        "5. author playtime at review -10%\n",
        "\n"
      ],
      "metadata": {
        "id": "SbbEQPK7L_QX"
      }
    },
    {
      "cell_type": "code",
      "source": [
        "def kpi_weights(table,one,two,three,four,five):\n",
        "  tables=table[one]*.30+table[two]*.20+table[three]*.20+table[four]*.20 +table[five]*.10\n",
        "  return tables"
      ],
      "metadata": {
        "id": "vc2ILt7UIry0"
      },
      "execution_count": 75,
      "outputs": []
    },
    {
      "cell_type": "markdown",
      "source": [
        "1. Votes helpful -30%\n",
        "2. votes funny -20%\n",
        "3. comments - 15%\n",
        "4. recommended - 15%\n",
        "5. author playtime at review -10%\n",
        "6. author number of games -10%"
      ],
      "metadata": {
        "id": "t7_kFLmf4mBU"
      }
    },
    {
      "cell_type": "code",
      "source": [
        "score=kpi_weights(all_tables,'votes_helpful','votes_funny','comment_count','recommended','author playtime_at_review')"
      ],
      "metadata": {
        "id": "FgKuV8OJL47-"
      },
      "execution_count": 77,
      "outputs": []
    },
    {
      "cell_type": "code",
      "source": [
        "all_tables['Score']=score"
      ],
      "metadata": {
        "id": "Agg-0puwMVPq"
      },
      "execution_count": 78,
      "outputs": []
    },
    {
      "cell_type": "code",
      "source": [
        "#removing 1 hit wonders\n",
        "all_tables_count=all_tables.groupby('author steamid')['review_id'].count().reset_index()\n",
        "all_tables_count.sort_values(by='review_id',ascending=False)\n",
        "all_tables_count_greater_than_1=all_tables_count[all_tables_count['review_id']>1]\n",
        "all_tables_count_greater_than_1"
      ],
      "metadata": {
        "colab": {
          "base_uri": "https://localhost:8080/",
          "height": 424
        },
        "id": "GogQ01vwOSOS",
        "outputId": "78d7211e-8590-498a-fa24-4441d0861962"
      },
      "execution_count": 83,
      "outputs": [
        {
          "output_type": "execute_result",
          "data": {
            "text/plain": [
              "           author steamid  review_id\n",
              "3       76561197960269409          2\n",
              "10      76561197960271994          2\n",
              "13      76561197960272871          2\n",
              "230     76561197960437512          2\n",
              "265     76561197960458147          2\n",
              "...                   ...        ...\n",
              "203594  76561199060809763          2\n",
              "203645  76561199062508201          2\n",
              "203650  76561199062636841          2\n",
              "204179  76561199081874912          2\n",
              "204763  76561199122076527          2\n",
              "\n",
              "[6780 rows x 2 columns]"
            ],
            "text/html": [
              "\n",
              "  <div id=\"df-b697835f-ec23-4895-a69b-731f492ca1b7\">\n",
              "    <div class=\"colab-df-container\">\n",
              "      <div>\n",
              "<style scoped>\n",
              "    .dataframe tbody tr th:only-of-type {\n",
              "        vertical-align: middle;\n",
              "    }\n",
              "\n",
              "    .dataframe tbody tr th {\n",
              "        vertical-align: top;\n",
              "    }\n",
              "\n",
              "    .dataframe thead th {\n",
              "        text-align: right;\n",
              "    }\n",
              "</style>\n",
              "<table border=\"1\" class=\"dataframe\">\n",
              "  <thead>\n",
              "    <tr style=\"text-align: right;\">\n",
              "      <th></th>\n",
              "      <th>author steamid</th>\n",
              "      <th>review_id</th>\n",
              "    </tr>\n",
              "  </thead>\n",
              "  <tbody>\n",
              "    <tr>\n",
              "      <th>3</th>\n",
              "      <td>76561197960269409</td>\n",
              "      <td>2</td>\n",
              "    </tr>\n",
              "    <tr>\n",
              "      <th>10</th>\n",
              "      <td>76561197960271994</td>\n",
              "      <td>2</td>\n",
              "    </tr>\n",
              "    <tr>\n",
              "      <th>13</th>\n",
              "      <td>76561197960272871</td>\n",
              "      <td>2</td>\n",
              "    </tr>\n",
              "    <tr>\n",
              "      <th>230</th>\n",
              "      <td>76561197960437512</td>\n",
              "      <td>2</td>\n",
              "    </tr>\n",
              "    <tr>\n",
              "      <th>265</th>\n",
              "      <td>76561197960458147</td>\n",
              "      <td>2</td>\n",
              "    </tr>\n",
              "    <tr>\n",
              "      <th>...</th>\n",
              "      <td>...</td>\n",
              "      <td>...</td>\n",
              "    </tr>\n",
              "    <tr>\n",
              "      <th>203594</th>\n",
              "      <td>76561199060809763</td>\n",
              "      <td>2</td>\n",
              "    </tr>\n",
              "    <tr>\n",
              "      <th>203645</th>\n",
              "      <td>76561199062508201</td>\n",
              "      <td>2</td>\n",
              "    </tr>\n",
              "    <tr>\n",
              "      <th>203650</th>\n",
              "      <td>76561199062636841</td>\n",
              "      <td>2</td>\n",
              "    </tr>\n",
              "    <tr>\n",
              "      <th>204179</th>\n",
              "      <td>76561199081874912</td>\n",
              "      <td>2</td>\n",
              "    </tr>\n",
              "    <tr>\n",
              "      <th>204763</th>\n",
              "      <td>76561199122076527</td>\n",
              "      <td>2</td>\n",
              "    </tr>\n",
              "  </tbody>\n",
              "</table>\n",
              "<p>6780 rows × 2 columns</p>\n",
              "</div>\n",
              "      <button class=\"colab-df-convert\" onclick=\"convertToInteractive('df-b697835f-ec23-4895-a69b-731f492ca1b7')\"\n",
              "              title=\"Convert this dataframe to an interactive table.\"\n",
              "              style=\"display:none;\">\n",
              "        \n",
              "  <svg xmlns=\"http://www.w3.org/2000/svg\" height=\"24px\"viewBox=\"0 0 24 24\"\n",
              "       width=\"24px\">\n",
              "    <path d=\"M0 0h24v24H0V0z\" fill=\"none\"/>\n",
              "    <path d=\"M18.56 5.44l.94 2.06.94-2.06 2.06-.94-2.06-.94-.94-2.06-.94 2.06-2.06.94zm-11 1L8.5 8.5l.94-2.06 2.06-.94-2.06-.94L8.5 2.5l-.94 2.06-2.06.94zm10 10l.94 2.06.94-2.06 2.06-.94-2.06-.94-.94-2.06-.94 2.06-2.06.94z\"/><path d=\"M17.41 7.96l-1.37-1.37c-.4-.4-.92-.59-1.43-.59-.52 0-1.04.2-1.43.59L10.3 9.45l-7.72 7.72c-.78.78-.78 2.05 0 2.83L4 21.41c.39.39.9.59 1.41.59.51 0 1.02-.2 1.41-.59l7.78-7.78 2.81-2.81c.8-.78.8-2.07 0-2.86zM5.41 20L4 18.59l7.72-7.72 1.47 1.35L5.41 20z\"/>\n",
              "  </svg>\n",
              "      </button>\n",
              "      \n",
              "  <style>\n",
              "    .colab-df-container {\n",
              "      display:flex;\n",
              "      flex-wrap:wrap;\n",
              "      gap: 12px;\n",
              "    }\n",
              "\n",
              "    .colab-df-convert {\n",
              "      background-color: #E8F0FE;\n",
              "      border: none;\n",
              "      border-radius: 50%;\n",
              "      cursor: pointer;\n",
              "      display: none;\n",
              "      fill: #1967D2;\n",
              "      height: 32px;\n",
              "      padding: 0 0 0 0;\n",
              "      width: 32px;\n",
              "    }\n",
              "\n",
              "    .colab-df-convert:hover {\n",
              "      background-color: #E2EBFA;\n",
              "      box-shadow: 0px 1px 2px rgba(60, 64, 67, 0.3), 0px 1px 3px 1px rgba(60, 64, 67, 0.15);\n",
              "      fill: #174EA6;\n",
              "    }\n",
              "\n",
              "    [theme=dark] .colab-df-convert {\n",
              "      background-color: #3B4455;\n",
              "      fill: #D2E3FC;\n",
              "    }\n",
              "\n",
              "    [theme=dark] .colab-df-convert:hover {\n",
              "      background-color: #434B5C;\n",
              "      box-shadow: 0px 1px 3px 1px rgba(0, 0, 0, 0.15);\n",
              "      filter: drop-shadow(0px 1px 2px rgba(0, 0, 0, 0.3));\n",
              "      fill: #FFFFFF;\n",
              "    }\n",
              "  </style>\n",
              "\n",
              "      <script>\n",
              "        const buttonEl =\n",
              "          document.querySelector('#df-b697835f-ec23-4895-a69b-731f492ca1b7 button.colab-df-convert');\n",
              "        buttonEl.style.display =\n",
              "          google.colab.kernel.accessAllowed ? 'block' : 'none';\n",
              "\n",
              "        async function convertToInteractive(key) {\n",
              "          const element = document.querySelector('#df-b697835f-ec23-4895-a69b-731f492ca1b7');\n",
              "          const dataTable =\n",
              "            await google.colab.kernel.invokeFunction('convertToInteractive',\n",
              "                                                     [key], {});\n",
              "          if (!dataTable) return;\n",
              "\n",
              "          const docLinkHtml = 'Like what you see? Visit the ' +\n",
              "            '<a target=\"_blank\" href=https://colab.research.google.com/notebooks/data_table.ipynb>data table notebook</a>'\n",
              "            + ' to learn more about interactive tables.';\n",
              "          element.innerHTML = '';\n",
              "          dataTable['output_type'] = 'display_data';\n",
              "          await google.colab.output.renderOutput(dataTable, element);\n",
              "          const docLink = document.createElement('div');\n",
              "          docLink.innerHTML = docLinkHtml;\n",
              "          element.appendChild(docLink);\n",
              "        }\n",
              "      </script>\n",
              "    </div>\n",
              "  </div>\n",
              "  "
            ]
          },
          "metadata": {},
          "execution_count": 83
        }
      ]
    },
    {
      "cell_type": "code",
      "source": [
        "all_tables['Negative']=all_tables['sentiment_prediction'].apply(lambda x: 1 if x==0 else 0)"
      ],
      "metadata": {
        "id": "xaETuscrQCU_"
      },
      "execution_count": 86,
      "outputs": []
    },
    {
      "cell_type": "code",
      "source": [
        "all_tables_sum=all_tables.groupby('author steamid')['Score','Negative'].sum().reset_index()\n",
        "all_tables_sum.sort_values(by='Score',ascending=False)"
      ],
      "metadata": {
        "colab": {
          "base_uri": "https://localhost:8080/",
          "height": 478
        },
        "id": "HkUr8z2DPOfc",
        "outputId": "6cf42ead-9ab7-4b79-af67-36913f36182b"
      },
      "execution_count": 91,
      "outputs": [
        {
          "output_type": "stream",
          "name": "stderr",
          "text": [
            "/usr/local/lib/python3.7/dist-packages/ipykernel_launcher.py:1: FutureWarning: Indexing with multiple keys (implicitly converted to a tuple of keys) will be deprecated, use a list instead.\n",
            "  \"\"\"Entry point for launching an IPython kernel.\n"
          ]
        },
        {
          "output_type": "execute_result",
          "data": {
            "text/plain": [
              "           author steamid        Score  Negative\n",
              "151764  76561198219691523  858995393.1         0\n",
              "158730  76561198264553229  858994326.4         0\n",
              "86792   76561198072356405  858994165.0         0\n",
              "44525   76561198028967242  858994068.0         0\n",
              "4648    76561197970439781  858993943.7         0\n",
              "...                   ...          ...       ...\n",
              "124647  76561198133905226          0.0         0\n",
              "124595  76561198133807698          0.0         0\n",
              "49269   76561198035020037          0.0         0\n",
              "49250   76561198035004513          0.0         0\n",
              "69844   76561198054903559          0.0         0\n",
              "\n",
              "[204833 rows x 3 columns]"
            ],
            "text/html": [
              "\n",
              "  <div id=\"df-95098fd8-e125-45c2-8cdf-24c018ab8be7\">\n",
              "    <div class=\"colab-df-container\">\n",
              "      <div>\n",
              "<style scoped>\n",
              "    .dataframe tbody tr th:only-of-type {\n",
              "        vertical-align: middle;\n",
              "    }\n",
              "\n",
              "    .dataframe tbody tr th {\n",
              "        vertical-align: top;\n",
              "    }\n",
              "\n",
              "    .dataframe thead th {\n",
              "        text-align: right;\n",
              "    }\n",
              "</style>\n",
              "<table border=\"1\" class=\"dataframe\">\n",
              "  <thead>\n",
              "    <tr style=\"text-align: right;\">\n",
              "      <th></th>\n",
              "      <th>author steamid</th>\n",
              "      <th>Score</th>\n",
              "      <th>Negative</th>\n",
              "    </tr>\n",
              "  </thead>\n",
              "  <tbody>\n",
              "    <tr>\n",
              "      <th>151764</th>\n",
              "      <td>76561198219691523</td>\n",
              "      <td>858995393.1</td>\n",
              "      <td>0</td>\n",
              "    </tr>\n",
              "    <tr>\n",
              "      <th>158730</th>\n",
              "      <td>76561198264553229</td>\n",
              "      <td>858994326.4</td>\n",
              "      <td>0</td>\n",
              "    </tr>\n",
              "    <tr>\n",
              "      <th>86792</th>\n",
              "      <td>76561198072356405</td>\n",
              "      <td>858994165.0</td>\n",
              "      <td>0</td>\n",
              "    </tr>\n",
              "    <tr>\n",
              "      <th>44525</th>\n",
              "      <td>76561198028967242</td>\n",
              "      <td>858994068.0</td>\n",
              "      <td>0</td>\n",
              "    </tr>\n",
              "    <tr>\n",
              "      <th>4648</th>\n",
              "      <td>76561197970439781</td>\n",
              "      <td>858993943.7</td>\n",
              "      <td>0</td>\n",
              "    </tr>\n",
              "    <tr>\n",
              "      <th>...</th>\n",
              "      <td>...</td>\n",
              "      <td>...</td>\n",
              "      <td>...</td>\n",
              "    </tr>\n",
              "    <tr>\n",
              "      <th>124647</th>\n",
              "      <td>76561198133905226</td>\n",
              "      <td>0.0</td>\n",
              "      <td>0</td>\n",
              "    </tr>\n",
              "    <tr>\n",
              "      <th>124595</th>\n",
              "      <td>76561198133807698</td>\n",
              "      <td>0.0</td>\n",
              "      <td>0</td>\n",
              "    </tr>\n",
              "    <tr>\n",
              "      <th>49269</th>\n",
              "      <td>76561198035020037</td>\n",
              "      <td>0.0</td>\n",
              "      <td>0</td>\n",
              "    </tr>\n",
              "    <tr>\n",
              "      <th>49250</th>\n",
              "      <td>76561198035004513</td>\n",
              "      <td>0.0</td>\n",
              "      <td>0</td>\n",
              "    </tr>\n",
              "    <tr>\n",
              "      <th>69844</th>\n",
              "      <td>76561198054903559</td>\n",
              "      <td>0.0</td>\n",
              "      <td>0</td>\n",
              "    </tr>\n",
              "  </tbody>\n",
              "</table>\n",
              "<p>204833 rows × 3 columns</p>\n",
              "</div>\n",
              "      <button class=\"colab-df-convert\" onclick=\"convertToInteractive('df-95098fd8-e125-45c2-8cdf-24c018ab8be7')\"\n",
              "              title=\"Convert this dataframe to an interactive table.\"\n",
              "              style=\"display:none;\">\n",
              "        \n",
              "  <svg xmlns=\"http://www.w3.org/2000/svg\" height=\"24px\"viewBox=\"0 0 24 24\"\n",
              "       width=\"24px\">\n",
              "    <path d=\"M0 0h24v24H0V0z\" fill=\"none\"/>\n",
              "    <path d=\"M18.56 5.44l.94 2.06.94-2.06 2.06-.94-2.06-.94-.94-2.06-.94 2.06-2.06.94zm-11 1L8.5 8.5l.94-2.06 2.06-.94-2.06-.94L8.5 2.5l-.94 2.06-2.06.94zm10 10l.94 2.06.94-2.06 2.06-.94-2.06-.94-.94-2.06-.94 2.06-2.06.94z\"/><path d=\"M17.41 7.96l-1.37-1.37c-.4-.4-.92-.59-1.43-.59-.52 0-1.04.2-1.43.59L10.3 9.45l-7.72 7.72c-.78.78-.78 2.05 0 2.83L4 21.41c.39.39.9.59 1.41.59.51 0 1.02-.2 1.41-.59l7.78-7.78 2.81-2.81c.8-.78.8-2.07 0-2.86zM5.41 20L4 18.59l7.72-7.72 1.47 1.35L5.41 20z\"/>\n",
              "  </svg>\n",
              "      </button>\n",
              "      \n",
              "  <style>\n",
              "    .colab-df-container {\n",
              "      display:flex;\n",
              "      flex-wrap:wrap;\n",
              "      gap: 12px;\n",
              "    }\n",
              "\n",
              "    .colab-df-convert {\n",
              "      background-color: #E8F0FE;\n",
              "      border: none;\n",
              "      border-radius: 50%;\n",
              "      cursor: pointer;\n",
              "      display: none;\n",
              "      fill: #1967D2;\n",
              "      height: 32px;\n",
              "      padding: 0 0 0 0;\n",
              "      width: 32px;\n",
              "    }\n",
              "\n",
              "    .colab-df-convert:hover {\n",
              "      background-color: #E2EBFA;\n",
              "      box-shadow: 0px 1px 2px rgba(60, 64, 67, 0.3), 0px 1px 3px 1px rgba(60, 64, 67, 0.15);\n",
              "      fill: #174EA6;\n",
              "    }\n",
              "\n",
              "    [theme=dark] .colab-df-convert {\n",
              "      background-color: #3B4455;\n",
              "      fill: #D2E3FC;\n",
              "    }\n",
              "\n",
              "    [theme=dark] .colab-df-convert:hover {\n",
              "      background-color: #434B5C;\n",
              "      box-shadow: 0px 1px 3px 1px rgba(0, 0, 0, 0.15);\n",
              "      filter: drop-shadow(0px 1px 2px rgba(0, 0, 0, 0.3));\n",
              "      fill: #FFFFFF;\n",
              "    }\n",
              "  </style>\n",
              "\n",
              "      <script>\n",
              "        const buttonEl =\n",
              "          document.querySelector('#df-95098fd8-e125-45c2-8cdf-24c018ab8be7 button.colab-df-convert');\n",
              "        buttonEl.style.display =\n",
              "          google.colab.kernel.accessAllowed ? 'block' : 'none';\n",
              "\n",
              "        async function convertToInteractive(key) {\n",
              "          const element = document.querySelector('#df-95098fd8-e125-45c2-8cdf-24c018ab8be7');\n",
              "          const dataTable =\n",
              "            await google.colab.kernel.invokeFunction('convertToInteractive',\n",
              "                                                     [key], {});\n",
              "          if (!dataTable) return;\n",
              "\n",
              "          const docLinkHtml = 'Like what you see? Visit the ' +\n",
              "            '<a target=\"_blank\" href=https://colab.research.google.com/notebooks/data_table.ipynb>data table notebook</a>'\n",
              "            + ' to learn more about interactive tables.';\n",
              "          element.innerHTML = '';\n",
              "          dataTable['output_type'] = 'display_data';\n",
              "          await google.colab.output.renderOutput(dataTable, element);\n",
              "          const docLink = document.createElement('div');\n",
              "          docLink.innerHTML = docLinkHtml;\n",
              "          element.appendChild(docLink);\n",
              "        }\n",
              "      </script>\n",
              "    </div>\n",
              "  </div>\n",
              "  "
            ]
          },
          "metadata": {},
          "execution_count": 91
        }
      ]
    },
    {
      "cell_type": "code",
      "source": [
        "#all_tables_max=all_tables.groupby('author steamid')['app_name'].max().reset_index()"
      ],
      "metadata": {
        "id": "LwTw_g7pTehq"
      },
      "execution_count": 110,
      "outputs": []
    },
    {
      "cell_type": "code",
      "source": [
        "all_tables_merged=pd.merge(left=all_tables_count_greater_than_1,right=all_tables_sum,on='author steamid',how='inner')"
      ],
      "metadata": {
        "id": "b6i_JkcrQ1P7"
      },
      "execution_count": 97,
      "outputs": []
    },
    {
      "cell_type": "code",
      "source": [
        "all_tables_merged_final=pd.merge(left=all_tables_max,right=all_tables_merged,on='author steamid',how='inner')"
      ],
      "metadata": {
        "id": "Fb6sfyMjTmwa"
      },
      "execution_count": 111,
      "outputs": []
    },
    {
      "cell_type": "code",
      "source": [
        "all_tables_merged_final=all_tables_merged_final.sort_values(by='Score',ascending=False)"
      ],
      "metadata": {
        "id": "kk2pDrIQRRO_"
      },
      "execution_count": 112,
      "outputs": []
    },
    {
      "cell_type": "code",
      "source": [
        "# to get top customers\n",
        "def topX(table,top_n):\n",
        "  topx=table[0:top_n].reset_index()\n",
        "  topx=topx.drop('index',axis=1)\n",
        "  print ('The number of author with negative comments are',table[0:top_n]['Negative'].sum(), 'Amongst the top 10,',table[0:10]['Negative'].sum(),'have negative comments')\n",
        "\n",
        "  return topx"
      ],
      "metadata": {
        "id": "FF12p5aMRSYG"
      },
      "execution_count": 113,
      "outputs": []
    },
    {
      "cell_type": "code",
      "source": [
        "top200=topX(all_tables_merged_final,200)\n",
        "top200"
      ],
      "metadata": {
        "colab": {
          "base_uri": "https://localhost:8080/",
          "height": 441
        },
        "id": "gPP2ZwDBSKzG",
        "outputId": "3b0d8752-7bd5-4992-e826-ed0503050c78"
      },
      "execution_count": 114,
      "outputs": [
        {
          "output_type": "stream",
          "name": "stdout",
          "text": [
            "The number of author with negative comments are 101 Amongst the top 10, 4 have negative comments\n"
          ]
        },
        {
          "output_type": "execute_result",
          "data": {
            "text/plain": [
              "        author steamid                                     app_name  \\\n",
              "0    76561198264553229                                    For Honor   \n",
              "1    76561198025472785                               Surviving Mars   \n",
              "2    76561198046494905                               SOULCALIBUR VI   \n",
              "3    76561198393005716                                    For Honor   \n",
              "4    76561198247945392  The Elder Scrolls V: Skyrim Special Edition   \n",
              "..                 ...                                          ...   \n",
              "195  76561198097159668  The Elder Scrolls V: Skyrim Special Edition   \n",
              "196  76561198202171168  The Elder Scrolls V: Skyrim Special Edition   \n",
              "197  76561198347215484                                    For Honor   \n",
              "198  76561198197425570  The Elder Scrolls V: Skyrim Special Edition   \n",
              "199  76561198041010752  The Elder Scrolls V: Skyrim Special Edition   \n",
              "\n",
              "     review_id        Score  Negative  \n",
              "0            2  858994326.4         0  \n",
              "1            2  858993940.4         1  \n",
              "2            2      34029.1         0  \n",
              "3            2      26543.9         0  \n",
              "4            2      24012.1         0  \n",
              "..         ...          ...       ...  \n",
              "195          2       3986.7         0  \n",
              "196          2       3984.7         0  \n",
              "197          2       3983.9         1  \n",
              "198          3       3978.6         1  \n",
              "199          2       3976.5         0  \n",
              "\n",
              "[200 rows x 5 columns]"
            ],
            "text/html": [
              "\n",
              "  <div id=\"df-0e291e60-9a68-4d36-a228-d3ffea706c44\">\n",
              "    <div class=\"colab-df-container\">\n",
              "      <div>\n",
              "<style scoped>\n",
              "    .dataframe tbody tr th:only-of-type {\n",
              "        vertical-align: middle;\n",
              "    }\n",
              "\n",
              "    .dataframe tbody tr th {\n",
              "        vertical-align: top;\n",
              "    }\n",
              "\n",
              "    .dataframe thead th {\n",
              "        text-align: right;\n",
              "    }\n",
              "</style>\n",
              "<table border=\"1\" class=\"dataframe\">\n",
              "  <thead>\n",
              "    <tr style=\"text-align: right;\">\n",
              "      <th></th>\n",
              "      <th>author steamid</th>\n",
              "      <th>app_name</th>\n",
              "      <th>review_id</th>\n",
              "      <th>Score</th>\n",
              "      <th>Negative</th>\n",
              "    </tr>\n",
              "  </thead>\n",
              "  <tbody>\n",
              "    <tr>\n",
              "      <th>0</th>\n",
              "      <td>76561198264553229</td>\n",
              "      <td>For Honor</td>\n",
              "      <td>2</td>\n",
              "      <td>858994326.4</td>\n",
              "      <td>0</td>\n",
              "    </tr>\n",
              "    <tr>\n",
              "      <th>1</th>\n",
              "      <td>76561198025472785</td>\n",
              "      <td>Surviving Mars</td>\n",
              "      <td>2</td>\n",
              "      <td>858993940.4</td>\n",
              "      <td>1</td>\n",
              "    </tr>\n",
              "    <tr>\n",
              "      <th>2</th>\n",
              "      <td>76561198046494905</td>\n",
              "      <td>SOULCALIBUR VI</td>\n",
              "      <td>2</td>\n",
              "      <td>34029.1</td>\n",
              "      <td>0</td>\n",
              "    </tr>\n",
              "    <tr>\n",
              "      <th>3</th>\n",
              "      <td>76561198393005716</td>\n",
              "      <td>For Honor</td>\n",
              "      <td>2</td>\n",
              "      <td>26543.9</td>\n",
              "      <td>0</td>\n",
              "    </tr>\n",
              "    <tr>\n",
              "      <th>4</th>\n",
              "      <td>76561198247945392</td>\n",
              "      <td>The Elder Scrolls V: Skyrim Special Edition</td>\n",
              "      <td>2</td>\n",
              "      <td>24012.1</td>\n",
              "      <td>0</td>\n",
              "    </tr>\n",
              "    <tr>\n",
              "      <th>...</th>\n",
              "      <td>...</td>\n",
              "      <td>...</td>\n",
              "      <td>...</td>\n",
              "      <td>...</td>\n",
              "      <td>...</td>\n",
              "    </tr>\n",
              "    <tr>\n",
              "      <th>195</th>\n",
              "      <td>76561198097159668</td>\n",
              "      <td>The Elder Scrolls V: Skyrim Special Edition</td>\n",
              "      <td>2</td>\n",
              "      <td>3986.7</td>\n",
              "      <td>0</td>\n",
              "    </tr>\n",
              "    <tr>\n",
              "      <th>196</th>\n",
              "      <td>76561198202171168</td>\n",
              "      <td>The Elder Scrolls V: Skyrim Special Edition</td>\n",
              "      <td>2</td>\n",
              "      <td>3984.7</td>\n",
              "      <td>0</td>\n",
              "    </tr>\n",
              "    <tr>\n",
              "      <th>197</th>\n",
              "      <td>76561198347215484</td>\n",
              "      <td>For Honor</td>\n",
              "      <td>2</td>\n",
              "      <td>3983.9</td>\n",
              "      <td>1</td>\n",
              "    </tr>\n",
              "    <tr>\n",
              "      <th>198</th>\n",
              "      <td>76561198197425570</td>\n",
              "      <td>The Elder Scrolls V: Skyrim Special Edition</td>\n",
              "      <td>3</td>\n",
              "      <td>3978.6</td>\n",
              "      <td>1</td>\n",
              "    </tr>\n",
              "    <tr>\n",
              "      <th>199</th>\n",
              "      <td>76561198041010752</td>\n",
              "      <td>The Elder Scrolls V: Skyrim Special Edition</td>\n",
              "      <td>2</td>\n",
              "      <td>3976.5</td>\n",
              "      <td>0</td>\n",
              "    </tr>\n",
              "  </tbody>\n",
              "</table>\n",
              "<p>200 rows × 5 columns</p>\n",
              "</div>\n",
              "      <button class=\"colab-df-convert\" onclick=\"convertToInteractive('df-0e291e60-9a68-4d36-a228-d3ffea706c44')\"\n",
              "              title=\"Convert this dataframe to an interactive table.\"\n",
              "              style=\"display:none;\">\n",
              "        \n",
              "  <svg xmlns=\"http://www.w3.org/2000/svg\" height=\"24px\"viewBox=\"0 0 24 24\"\n",
              "       width=\"24px\">\n",
              "    <path d=\"M0 0h24v24H0V0z\" fill=\"none\"/>\n",
              "    <path d=\"M18.56 5.44l.94 2.06.94-2.06 2.06-.94-2.06-.94-.94-2.06-.94 2.06-2.06.94zm-11 1L8.5 8.5l.94-2.06 2.06-.94-2.06-.94L8.5 2.5l-.94 2.06-2.06.94zm10 10l.94 2.06.94-2.06 2.06-.94-2.06-.94-.94-2.06-.94 2.06-2.06.94z\"/><path d=\"M17.41 7.96l-1.37-1.37c-.4-.4-.92-.59-1.43-.59-.52 0-1.04.2-1.43.59L10.3 9.45l-7.72 7.72c-.78.78-.78 2.05 0 2.83L4 21.41c.39.39.9.59 1.41.59.51 0 1.02-.2 1.41-.59l7.78-7.78 2.81-2.81c.8-.78.8-2.07 0-2.86zM5.41 20L4 18.59l7.72-7.72 1.47 1.35L5.41 20z\"/>\n",
              "  </svg>\n",
              "      </button>\n",
              "      \n",
              "  <style>\n",
              "    .colab-df-container {\n",
              "      display:flex;\n",
              "      flex-wrap:wrap;\n",
              "      gap: 12px;\n",
              "    }\n",
              "\n",
              "    .colab-df-convert {\n",
              "      background-color: #E8F0FE;\n",
              "      border: none;\n",
              "      border-radius: 50%;\n",
              "      cursor: pointer;\n",
              "      display: none;\n",
              "      fill: #1967D2;\n",
              "      height: 32px;\n",
              "      padding: 0 0 0 0;\n",
              "      width: 32px;\n",
              "    }\n",
              "\n",
              "    .colab-df-convert:hover {\n",
              "      background-color: #E2EBFA;\n",
              "      box-shadow: 0px 1px 2px rgba(60, 64, 67, 0.3), 0px 1px 3px 1px rgba(60, 64, 67, 0.15);\n",
              "      fill: #174EA6;\n",
              "    }\n",
              "\n",
              "    [theme=dark] .colab-df-convert {\n",
              "      background-color: #3B4455;\n",
              "      fill: #D2E3FC;\n",
              "    }\n",
              "\n",
              "    [theme=dark] .colab-df-convert:hover {\n",
              "      background-color: #434B5C;\n",
              "      box-shadow: 0px 1px 3px 1px rgba(0, 0, 0, 0.15);\n",
              "      filter: drop-shadow(0px 1px 2px rgba(0, 0, 0, 0.3));\n",
              "      fill: #FFFFFF;\n",
              "    }\n",
              "  </style>\n",
              "\n",
              "      <script>\n",
              "        const buttonEl =\n",
              "          document.querySelector('#df-0e291e60-9a68-4d36-a228-d3ffea706c44 button.colab-df-convert');\n",
              "        buttonEl.style.display =\n",
              "          google.colab.kernel.accessAllowed ? 'block' : 'none';\n",
              "\n",
              "        async function convertToInteractive(key) {\n",
              "          const element = document.querySelector('#df-0e291e60-9a68-4d36-a228-d3ffea706c44');\n",
              "          const dataTable =\n",
              "            await google.colab.kernel.invokeFunction('convertToInteractive',\n",
              "                                                     [key], {});\n",
              "          if (!dataTable) return;\n",
              "\n",
              "          const docLinkHtml = 'Like what you see? Visit the ' +\n",
              "            '<a target=\"_blank\" href=https://colab.research.google.com/notebooks/data_table.ipynb>data table notebook</a>'\n",
              "            + ' to learn more about interactive tables.';\n",
              "          element.innerHTML = '';\n",
              "          dataTable['output_type'] = 'display_data';\n",
              "          await google.colab.output.renderOutput(dataTable, element);\n",
              "          const docLink = document.createElement('div');\n",
              "          docLink.innerHTML = docLinkHtml;\n",
              "          element.appendChild(docLink);\n",
              "        }\n",
              "      </script>\n",
              "    </div>\n",
              "  </div>\n",
              "  "
            ]
          },
          "metadata": {},
          "execution_count": 114
        }
      ]
    },
    {
      "cell_type": "code",
      "source": [
        "sns.countplot(data=top200,x='Negative')"
      ],
      "metadata": {
        "colab": {
          "base_uri": "https://localhost:8080/",
          "height": 299
        },
        "id": "z_IOsDE3Sdhv",
        "outputId": "df46b3c0-cf84-4e35-aade-41d37a90f5c8"
      },
      "execution_count": 115,
      "outputs": [
        {
          "output_type": "execute_result",
          "data": {
            "text/plain": [
              "<matplotlib.axes._subplots.AxesSubplot at 0x7f7b5137ad90>"
            ]
          },
          "metadata": {},
          "execution_count": 115
        },
        {
          "output_type": "display_data",
          "data": {
            "text/plain": [
              "<Figure size 432x288 with 1 Axes>"
            ],
            "image/png": "[encoded data removed]"
          },
          "metadata": {
            "needs_background": "light"
          }
        }
      ]
    },
    {
      "cell_type": "code",
      "source": [
        "order=(top200['app_name'].value_counts()).index.tolist()"
      ],
      "metadata": {
        "id": "xlbYCRh9Eode"
      },
      "execution_count": 116,
      "outputs": []
    },
    {
      "cell_type": "code",
      "source": [
        "plt.figure(figsize=(20,10))\n",
        "sns.countplot(data=top200,x='app_name',order=order)"
      ],
      "metadata": {
        "colab": {
          "base_uri": "https://localhost:8080/",
          "height": 496
        },
        "id": "drg-8SX2ELPq",
        "outputId": "d06eda76-63c8-4288-c32e-9d3c2eb71df3"
      },
      "execution_count": 119,
      "outputs": [
        {
          "output_type": "execute_result",
          "data": {
            "text/plain": [
              "<matplotlib.axes._subplots.AxesSubplot at 0x7f7b4d855750>"
            ]
          },
          "metadata": {},
          "execution_count": 119
        },
        {
          "output_type": "display_data",
          "data": {
            "text/plain": [
              "<Figure size 1440x720 with 1 Axes>"
            ],
            "image/png": "[encoded data removed]"
          },
          "metadata": {
            "needs_background": "light"
          }
        }
      ]
    },
    {
      "cell_type": "markdown",
      "source": [
        "As we can see votes_helpful has the biggest positive correlation to comment count. Which means helpful votes are most engaging. "
      ],
      "metadata": {
        "id": "_u9BnqHn9z1k"
      }
    },
    {
      "cell_type": "code",
      "source": [
        "plt.figure(figsize=(20,12))\n",
        "sns.heatmap(all_tables.corr(),annot=True, cmap='RdYlGn')"
      ],
      "metadata": {
        "colab": {
          "base_uri": "https://localhost:8080/",
          "height": 675
        },
        "id": "UJVlKqkw9ndw",
        "outputId": "dc88008d-bc9a-478f-ddab-d43bb291219c"
      },
      "execution_count": 109,
      "outputs": [
        {
          "output_type": "execute_result",
          "data": {
            "text/plain": [
              "<matplotlib.axes._subplots.AxesSubplot at 0x7f7b516f8a10>"
            ]
          },
          "metadata": {},
          "execution_count": 109
        },
        {
          "output_type": "display_data",
          "data": {
            "text/plain": [
              "<Figure size 1440x864 with 2 Axes>"
            ],
            "image/png": "[encoded data removed]"
          },
          "metadata": {
            "needs_background": "light"
          }
        }
      ]
    },
    {
      "cell_type": "code",
      "source": [
        ""
      ],
      "metadata": {
        "id": "Y1BQNUpeTSuE"
      },
      "execution_count": null,
      "outputs": []
    }
  ]
}